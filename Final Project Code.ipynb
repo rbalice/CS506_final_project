{
 "cells": [
  {
   "cell_type": "code",
   "execution_count": null,
   "id": "f9d7605e-70c6-4f07-b0b1-4a196f97e2dc",
   "metadata": {},
   "outputs": [],
   "source": [
    "import pandas as pd\n",
    "import seaborn as sns\n",
    "import matplotlib.pyplot as plt\n",
    "from sklearn.model_selection import train_test_split"
   ]
  },
  {
   "cell_type": "markdown",
   "id": "38835e3c-fdd7-475d-91b0-f604d60619fe",
   "metadata": {},
   "source": [
    "# Loading Files"
   ]
  },
  {
   "cell_type": "code",
   "execution_count": null,
   "id": "5a4acee7-5eb6-4206-9682-0a48f4c001df",
   "metadata": {},
   "outputs": [],
   "source": [
    "data_game = pd.read_csv(\"./games.csv\")\n",
    "print(\"games.csv shape is \", data_game.shape)\n",
    "print(data_game.head())\n",
    "print( )\n",
    "\n",
    "data_user = pd.read_csv(\"./users.csv\")\n",
    "print(\"users.csv shape is \", data_user.shape)\n",
    "print(data_user.head())\n",
    "print( )\n",
    "\n",
    "data_rec = pd.read_csv(\"./recommendations.csv\")\n",
    "print(\"recommendations.csv shape is \", data_rec.shape)\n",
    "print(data_rec.head())\n",
    "print( )"
   ]
  },
  {
   "cell_type": "markdown",
   "id": "9648acc4-4dc3-4577-98d6-24b6a560ccc2",
   "metadata": {},
   "source": [
    "# Draw Plots"
   ]
  },
  {
   "cell_type": "code",
   "execution_count": null,
   "id": "34304509-e64b-487d-9914-412668f31015",
   "metadata": {},
   "outputs": [],
   "source": [
    "data_game['date_release'] = pd.to_datetime(data_game['date_release'], errors='coerce')\n",
    "data_rec['date'] = pd.to_datetime(data_rec['date'], errors='coerce')\n",
    "\n",
    "# Positive Ratio \n",
    "plt.figure(figsize=(15, 5))\n",
    "plt.subplot(1, 3, 1)\n",
    "sns.barplot(x='rating', y='positive_ratio', data=data_game, estimator=sum, ci=None)\n",
    "plt.title('Total Positive Ratio by Rating')\n",
    "plt.xlabel('Rating')\n",
    "plt.ylabel('Total Positive Ratio')\n",
    "plt.xticks(rotation=45, fontsize=8)\n",
    "\n",
    "# User Reviews\n",
    "plt.subplot(1, 3, 2)\n",
    "sns.barplot(x='rating', y='user_reviews', data=data_game, estimator=sum, ci=None)\n",
    "plt.title('Total User Reviews by Rating')\n",
    "plt.xlabel('Rating')\n",
    "plt.ylabel('Total User Reviews')\n",
    "plt.xticks(rotation=45, fontsize=8)\n",
    "\n",
    "# Price Final\n",
    "plt.subplot(1, 3, 3)\n",
    "sns.barplot(x='rating', y='price_final', data=data_game, estimator=sum, ci=None)\n",
    "plt.title('Total Price Final by Rating')\n",
    "plt.xlabel('Rating')\n",
    "plt.ylabel('Total Price Final')\n",
    "plt.xticks(rotation=45, fontsize=8)\n",
    "plt.tight_layout()\n",
    "plt.show()\n",
    "\n",
    "# Releasing year\n",
    "data_game['release_year'] = data_game['date_release'].dt.year\n",
    "yearly_rating_counts = data_game.groupby(['release_year', 'rating']).size().unstack().fillna(0)\n",
    "\n",
    "plt.figure(figsize=(15, 5))\n",
    "yearly_rating_counts.plot(kind='bar', stacked=True, colormap='viridis', ax=plt.gca())\n",
    "plt.title('Rating Counts by Release Year')\n",
    "plt.xlabel('Release Year')\n",
    "plt.ylabel('Count')\n",
    "plt.legend(title='Rating', bbox_to_anchor=(1.05, 1), loc='upper left')\n",
    "plt.xticks(rotation=45, fontsize=8)\n",
    "plt.tight_layout()\n",
    "plt.show()"
   ]
  },
  {
   "cell_type": "markdown",
   "id": "386ff303-ef66-4e25-8822-d28c74480f00",
   "metadata": {},
   "source": [
    "# Clear Data set\n"
   ]
  },
  {
   "cell_type": "code",
   "execution_count": null,
   "id": "25419888-79eb-4d4c-81e4-ac3048e6a125",
   "metadata": {},
   "outputs": [],
   "source": [
    "data_game = data_game.dropna()\n",
    "data_user = data_user.dropna()\n",
    "data_rec = data_rec.dropna()"
   ]
  },
  {
   "cell_type": "markdown",
   "id": "ec730a9a-2b5b-4620-988a-ee4907f6c0e1",
   "metadata": {},
   "source": [
    "# Save first 5000 rows of recommendations"
   ]
  },
  {
   "cell_type": "code",
   "execution_count": null,
   "id": "7cebca73-24d0-4be5-b756-032d8419e734",
   "metadata": {},
   "outputs": [],
   "source": [
    "rec_5000 = data_rec.head(5000)\n",
    "rec_5000.to_csv('recommendations_5000.csv', index=False)\n",
    "\n",
    "data_game.to_csv('games_cleaned.csv', index=False)\n",
    "data_user.to_csv('users_cleaned.csv', index=False)\n",
    "rec_5000.to_csv('recommendations_cleaned_5000.csv', index=False)"
   ]
  },
  {
   "cell_type": "markdown",
   "id": "bf8abf2b-05e7-4144-bf97-bedf6826bb58",
   "metadata": {},
   "source": [
    "# Adding Features"
   ]
  },
  {
   "cell_type": "code",
   "execution_count": null,
   "id": "050f885a-9372-4e5a-8687-b303d523a283",
   "metadata": {},
   "outputs": [],
   "source": []
  },
  {
   "cell_type": "markdown",
   "id": "554c715c-59cc-4e35-8b14-62069ac3255b",
   "metadata": {},
   "source": [
    "# Split Data set"
   ]
  },
  {
   "cell_type": "code",
   "execution_count": null,
   "id": "06966d2f-ed34-414c-bf25-291612c22713",
   "metadata": {},
   "outputs": [],
   "source": [
    "games_cleaned = pd.read_csv('games_cleaned.csv')\n",
    "users_cleaned = pd.read_csv('users_cleaned.csv')\n",
    "recommendations_cleaned = pd.read_csv('recommendations_cleaned_5000.csv')\n",
    "\n",
    "games_train, games_test = train_test_split(games_cleaned, test_size=0.3, random_state=42)\n",
    "users_train, users_test = train_test_split(users_cleaned, test_size=0.3, random_state=42)\n",
    "recommendations_train, recommendations_test = train_test_split(recommendations_cleaned, test_size=0.3, random_state=42)\n",
    "\n",
    "games_train.to_csv('games_train.csv', index=False)\n",
    "games_test.to_csv('games_test.csv', index=False)\n",
    "users_train.to_csv('users_train.csv', index=False)\n",
    "users_test.to_csv('users_test.csv', index=False)\n",
    "recommendations_train.to_csv('recommendations_train.csv', index=False)\n",
    "recommendations_test.to_csv('recommendations_test.csv', index=False)\n",
    "\n",
    "print(\"Data splitting and file saving completed.\")"
   ]
  },
  {
   "cell_type": "markdown",
   "id": "bb2f05a5-fcd9-473e-bc26-a188bd39477a",
   "metadata": {},
   "source": [
    "# Feature Selection"
   ]
  },
  {
   "cell_type": "code",
   "execution_count": null,
   "id": "9c4870b0-b769-4a13-8131-aece128fb3b7",
   "metadata": {},
   "outputs": [],
   "source": [
    "from sklearn.linear_model import LinearRegression\n",
    "from sklearn.preprocessing import OneHotEncoder\n",
    "from sklearn.compose import ColumnTransformer\n",
    "from sklearn.pipeline import Pipeline\n",
    "from sklearn.metrics import mean_squared_error"
   ]
  },
  {
   "cell_type": "code",
   "execution_count": null,
   "id": "6af73db5-2b70-45bb-9eec-b07194a1b822",
   "metadata": {},
   "outputs": [],
   "source": [
    "features = ['positive_ratio', 'user_reviews', 'price_final', 'win', 'mac', 'linux']\n",
    "target = 'rating'"
   ]
  },
  {
   "cell_type": "code",
   "execution_count": null,
   "id": "b40dcefc-cdfc-49fb-82af-352b15960c11",
   "metadata": {},
   "outputs": [],
   "source": [
    "games_train = pd.read_csv('games_train.csv')\n",
    "games_test = pd.read_csv('games_test.csv')\n",
    "# recommendations_train = pd.read_csv('recommendations_train.csv')\n",
    "# recommendations_test = pd.read_csv('recommendations_test.csv')\n",
    "\n",
    "rating_mapping = {\n",
    "    'Very Positive': 5,\n",
    "    'Positive': 4,\n",
    "    'Mixed': 3,\n",
    "    'Negative': 2,\n",
    "    'Very Negative': 1\n",
    "}\n",
    "\n",
    "games_train['rating'] = games_train['rating'].map(rating_mapping)\n",
    "games_test['rating'] = games_test['rating'].map(rating_mapping)"
   ]
  },
  {
   "cell_type": "code",
   "execution_count": null,
   "id": "dd408c35-64d3-4967-99cb-1b0cbbf5de23",
   "metadata": {},
   "outputs": [],
   "source": [
    "games_train = games_train.dropna()\n",
    "games_test = games_test.dropna()"
   ]
  },
  {
   "cell_type": "code",
   "execution_count": null,
   "id": "9148df4f-2127-4723-bd29-f91217267e9d",
   "metadata": {},
   "outputs": [],
   "source": [
    "X_train = games_train[features]\n",
    "X_test = games_test[features]\n",
    "y_train = games_train[target]\n",
    "y_test = games_test[target]"
   ]
  },
  {
   "cell_type": "markdown",
   "id": "d47ac8cc-02b1-44e7-b98b-34b3c28579c9",
   "metadata": {},
   "source": [
    "# Model Creation"
   ]
  },
  {
   "cell_type": "code",
   "execution_count": null,
   "id": "38adfe4e-f23b-4b51-9349-ec720400773b",
   "metadata": {},
   "outputs": [],
   "source": [
    "preprocessor = ColumnTransformer(\n",
    "    transformers=[\n",
    "        ('win_mac_linux', OneHotEncoder(), ['win', 'mac', 'linux'])\n",
    "    ],\n",
    "    remainder='passthrough'\n",
    ")\n",
    "\n",
    "model = Pipeline(steps=[\n",
    "    ('preprocessor', preprocessor),\n",
    "    ('regressor', LinearRegression())\n",
    "])\n",
    "\n",
    "model.fit(X_train, y_train)\n",
    "\n",
    "y_pred = model.predict(X_test)\n",
    "print(\"model predict finish\")"
   ]
  },
  {
   "cell_type": "markdown",
   "id": "9be997ea-b708-4c2d-8345-7c889e364037",
   "metadata": {},
   "source": [
    "# Model Evaluation"
   ]
  },
  {
   "cell_type": "code",
   "execution_count": null,
   "id": "18d65fd6-1f4a-4c8f-883c-b0231b1aea7d",
   "metadata": {},
   "outputs": [],
   "source": [
    "from sklearn.metrics import accuracy_score, confusion_matrix\n",
    "\n",
    "mse = mean_squared_error(y_test, y_pred)\n",
    "print(f'Mean Squared Error: {mse}')"
   ]
  },
  {
   "cell_type": "markdown",
   "id": "df594a6b-8eec-4a22-bc3b-481616c1f73b",
   "metadata": {},
   "source": [
    "# Store Submission file"
   ]
  },
  {
   "cell_type": "code",
   "execution_count": null,
   "id": "0684ea3f-a6dd-463b-9d33-34624bc556a4",
   "metadata": {},
   "outputs": [],
   "source": []
  }
 ],
 "metadata": {
  "kernelspec": {
   "display_name": "Python 3 (ipykernel)",
   "language": "python",
   "name": "python3"
  },
  "language_info": {
   "codemirror_mode": {
    "name": "ipython",
    "version": 3
   },
   "file_extension": ".py",
   "mimetype": "text/x-python",
   "name": "python",
   "nbconvert_exporter": "python",
   "pygments_lexer": "ipython3",
   "version": "3.8.8"
  }
 },
 "nbformat": 4,
 "nbformat_minor": 5
}
